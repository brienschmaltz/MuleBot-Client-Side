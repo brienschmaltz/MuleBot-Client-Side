{
 "cells": [
  {
   "cell_type": "code",
   "execution_count": null,
   "id": "9ac34a6f",
   "metadata": {},
   "outputs": [],
   "source": [
    "pip install adafruit-circuitpython-motorkit"
   ]
  },
  {
   "cell_type": "markdown",
   "id": "a182d31c",
   "metadata": {},
   "source": [
    "# Motorkit example to move motor back and forth."
   ]
  },
  {
   "cell_type": "code",
   "execution_count": null,
   "id": "1d5a7278",
   "metadata": {},
   "outputs": [],
   "source": [
    "import time\n",
    "import board\n",
    "from adafruit_motorkit import MotorKit\n",
    "\n",
    "#Simple code pulled from motorkit doc to move motor back and forth.\n",
    "\n",
    "#Must activate I2C before this will work\n",
    "# https://learn.adafruit.com/adafruits-raspberry-pi-lesson-4-gpio-setup/configuring-i2c\n",
    "\n",
    "kit = MotorKit(i2c=board.I2C())\n",
    "\n",
    "#The four motor spots on the Pi hat are available as motor1 , motor2 , motor3 , and\n",
    "# motor4 .\n",
    "\n",
    "#Half throttle for motor1\n",
    "kit.motor1.throttle = 0.5\n",
    "\n",
    "#Half throttle for motor1 but backwards\n",
    "kit.motor1.throttle = -0.5\n",
    "\n",
    "#Motor coast. Probably useful for the stop function of our android app!\n",
    "kit.motor1.throttle = None"
   ]
  },
  {
   "cell_type": "markdown",
   "id": "6be0cbbf",
   "metadata": {},
   "source": [
    "# Script to move motor forward for 10 seconds then backwards for 10 more. Then in a circle."
   ]
  },
  {
   "cell_type": "code",
   "execution_count": null,
   "id": "17e68d97",
   "metadata": {},
   "outputs": [],
   "source": [
    "\n",
    "\n",
    "#Foward\n",
    "kit.motor1.throttle = 0.3\n",
    "kit.motor2.throttle = 0.3\n",
    "\n",
    "sleep(10) #seconds\n",
    "\n",
    "#backwards\n",
    "kit.motor1.throttle = -0.2\n",
    "kit.motor2.throttle = -0.2\n",
    "\n",
    "sleep(10) #seconds\n",
    "\n",
    "#potentially in a cirlce like path\n",
    "kit.motor1.throttle = 0.3\n",
    "kit.motor2.throttle = 0.35\n",
    "\n",
    "sleep(30)# this requires actual testing"
   ]
  },
  {
   "cell_type": "markdown",
   "id": "16b7dfcd",
   "metadata": {},
   "source": [
    "# Ignore all code below\n",
    "\n",
    "\n",
    "\n",
    "\n",
    "\n",
    "\n",
    "\n",
    "\n"
   ]
  },
  {
   "cell_type": "markdown",
   "id": "1d298d11",
   "metadata": {},
   "source": [
    "# Follow_user preliminary design. "
   ]
  },
  {
   "cell_type": "code",
   "execution_count": null,
   "id": "fe0807ca",
   "metadata": {},
   "outputs": [],
   "source": [
    "#Library to determine current distance between mulebot and user.\n",
    "from geopy.distance import geodesic\n",
    "\n",
    "#Gather data from phone\n",
    "phone_lat, phone_long = gather_phone_gps()\n",
    "combined_phone = (phone_lat, phone_long)\n",
    "\n",
    "#Gather data from gps module\n",
    "bot_lat, bot_long = gather_bot_gps()\n",
    "combined_bot = (bot_lat, bot_long)\n",
    "\n",
    "# \n",
    "current_distance=0\n",
    "\n",
    "while(following) \n",
    "    \n",
    "    current_distance = distance.distance(combined_phone, combined_bot).meters\n",
    "    \n",
    "    if()"
   ]
  },
  {
   "cell_type": "code",
   "execution_count": null,
   "id": "e8b69211",
   "metadata": {},
   "outputs": [],
   "source": []
  }
 ],
 "metadata": {
  "kernelspec": {
   "display_name": "Python 3",
   "language": "python",
   "name": "python3"
  },
  "language_info": {
   "codemirror_mode": {
    "name": "ipython",
    "version": 3
   },
   "file_extension": ".py",
   "mimetype": "text/x-python",
   "name": "python",
   "nbconvert_exporter": "python",
   "pygments_lexer": "ipython3",
   "version": "3.8.8"
  }
 },
 "nbformat": 4,
 "nbformat_minor": 5
}
